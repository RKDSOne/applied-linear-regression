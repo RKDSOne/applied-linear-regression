{
 "metadata": {
  "name": "",
  "signature": "sha256:4b51afa6d4fb8d0c0b66f55d4fedc3472508ab17fd3a40157267a898bbba41b9"
 },
 "nbformat": 3,
 "nbformat_minor": 0,
 "worksheets": [
  {
   "cells": [
    {
     "cell_type": "code",
     "collapsed": false,
     "input": [
      "from scipy import stats\n",
      "import numpy as np"
     ],
     "language": "python",
     "metadata": {},
     "outputs": [],
     "prompt_number": 14
    },
    {
     "cell_type": "code",
     "collapsed": false,
     "input": [
      "np.random.seed(282629734)"
     ],
     "language": "python",
     "metadata": {},
     "outputs": [],
     "prompt_number": 15
    },
    {
     "cell_type": "code",
     "collapsed": false,
     "input": [
      "# first lets create 1000 random samples from a students t distribution\n",
      "x = stats.t.rvs(10, size=1000)\n",
      "n, (smin, smax), sm, sv, ss, sk = stats.describe(x)\n",
      "print \"n={}, smin={}, smax={}, sm={}, sv={}, ss={}, sk={}\".format(n, smin, smax, sm, sv, ss, sk)"
     ],
     "language": "python",
     "metadata": {},
     "outputs": [
      {
       "output_type": "stream",
       "stream": "stdout",
       "text": [
        "n=1000, smin=-3.60414724202, smax=3.44823872649, sm=0.00776037916758, sv=1.0639650856, ss=0.00275857366575, sk=0.203890243395\n"
       ]
      }
     ],
     "prompt_number": 27
    },
    {
     "cell_type": "code",
     "collapsed": false,
     "input": [
      "help(stats.describe)"
     ],
     "language": "python",
     "metadata": {},
     "outputs": [
      {
       "output_type": "stream",
       "stream": "stdout",
       "text": [
        "Help on function describe in module scipy.stats.stats:\n",
        "\n",
        "describe(a, axis=0)\n",
        "    Computes several descriptive statistics of the passed array.\n",
        "    \n",
        "    Parameters\n",
        "    ----------\n",
        "    a : array_like\n",
        "       data\n",
        "    axis : int or None\n",
        "       axis along which statistics are calculated. If axis is None, then data\n",
        "       array is raveled. The default axis is zero.\n",
        "    \n",
        "    Returns\n",
        "    -------\n",
        "    size of the data : int\n",
        "       length of data along axis\n",
        "    (min, max): tuple of ndarrays or floats\n",
        "       minimum and maximum value of data array\n",
        "    arithmetic mean : ndarray or float\n",
        "       mean of data along axis\n",
        "    unbiased variance : ndarray or float\n",
        "       variance of the data along axis, denominator is number of observations\n",
        "       minus one.\n",
        "    biased skewness : ndarray or float\n",
        "       skewness, based on moment calculations with denominator equal to the\n",
        "       number of observations, i.e. no degrees of freedom correction\n",
        "    biased kurtosis : ndarray or float\n",
        "       kurtosis (Fisher), the kurtosis is normalized so that it is zero for the\n",
        "       normal distribution. No degrees of freedom or bias correction is used.\n",
        "    \n",
        "    See Also\n",
        "    --------\n",
        "    skew\n",
        "    kurtosis\n",
        "\n"
       ]
      }
     ],
     "prompt_number": 36
    },
    {
     "cell_type": "code",
     "collapsed": false,
     "input": [
      "len(x),x.min(),x.max(),x.mean(),x.var(),stats.kurtosis(x,fisher =True)"
     ],
     "language": "python",
     "metadata": {},
     "outputs": [
      {
       "metadata": {},
       "output_type": "pyout",
       "prompt_number": 39,
       "text": [
        "(1000,\n",
        " -3.604147242022941,\n",
        " 3.4482387264861316,\n",
        " 0.0077603791675835334,\n",
        " 1.0629011205117012,\n",
        " 0.20389024339467765)"
       ]
      }
     ],
     "prompt_number": 39
    },
    {
     "cell_type": "code",
     "collapsed": false,
     "input": [
      "# now create a theoretical distribution\n",
      "m, v, s, k = stats.t.stats(10, moments='mvsk')\n",
      "print \"m={}, v={}, s={}, k={}\".format(m, v, s, k)"
     ],
     "language": "python",
     "metadata": {},
     "outputs": [
      {
       "output_type": "stream",
       "stream": "stdout",
       "text": [
        "m=0.0, v=1.25, s=0.0, k=1.0\n"
       ]
      }
     ],
     "prompt_number": 26
    },
    {
     "cell_type": "code",
     "collapsed": false,
     "input": [
      "stats.ttest_1samp(x, m)"
     ],
     "language": "python",
     "metadata": {},
     "outputs": [
      {
       "metadata": {},
       "output_type": "pyout",
       "prompt_number": 19,
       "text": [
        "(0.39144935201466913, 0.69554859689327464)"
       ]
      }
     ],
     "prompt_number": 19
    },
    {
     "cell_type": "code",
     "collapsed": false,
     "input": [
      "tt = (sm-m)/np.sqrt(sv/float(n))  # t-statistic for mean"
     ],
     "language": "python",
     "metadata": {},
     "outputs": [],
     "prompt_number": 20
    },
    {
     "cell_type": "code",
     "collapsed": false,
     "input": [
      "pval = stats.t.sf(np.abs(tt), n-1)*2"
     ],
     "language": "python",
     "metadata": {},
     "outputs": [],
     "prompt_number": 21
    },
    {
     "cell_type": "code",
     "collapsed": false,
     "input": [
      "print 't-statistic = %6.3f pvalue = %6.4f' % (tt, pval)"
     ],
     "language": "python",
     "metadata": {},
     "outputs": [
      {
       "output_type": "stream",
       "stream": "stdout",
       "text": [
        "t-statistic =  0.391 pvalue = 0.6955\n"
       ]
      }
     ],
     "prompt_number": 22
    },
    {
     "cell_type": "code",
     "collapsed": false,
     "input": [],
     "language": "python",
     "metadata": {},
     "outputs": [
      {
       "output_type": "stream",
       "stream": "stdout",
       "text": [
        "Help on method sf in module scipy.stats._distn_infrastructure:\n",
        "\n",
        "sf(self, x, *args, **kwds) method of scipy.stats._continuous_distns.t_gen instance\n",
        "    Survival function (1-cdf) at x of the given RV.\n",
        "    \n",
        "    Parameters\n",
        "    ----------\n",
        "    x : array_like\n",
        "        quantiles\n",
        "    arg1, arg2, arg3,... : array_like\n",
        "        The shape parameter(s) for the distribution (see docstring of the\n",
        "        instance object for more information)\n",
        "    loc : array_like, optional\n",
        "        location parameter (default=0)\n",
        "    scale : array_like, optional\n",
        "        scale parameter (default=1)\n",
        "    \n",
        "    Returns\n",
        "    -------\n",
        "    sf : array_like\n",
        "        Survival function evaluated at x\n",
        "\n"
       ]
      }
     ],
     "prompt_number": 25
    },
    {
     "cell_type": "code",
     "collapsed": false,
     "input": [],
     "language": "python",
     "metadata": {},
     "outputs": []
    }
   ],
   "metadata": {}
  }
 ]
}