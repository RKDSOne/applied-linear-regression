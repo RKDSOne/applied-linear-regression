{
 "metadata": {
  "name": "",
  "signature": "sha256:b3538e595b3130b81378a7b582588114d8770d787ad129b81c968eff4b0f1103"
 },
 "nbformat": 3,
 "nbformat_minor": 0,
 "worksheets": [
  {
   "cells": [
    {
     "cell_type": "code",
     "collapsed": false,
     "input": [
      "import pandas as pd\n",
      "from ggplot import *\n",
      "from sklearn.linear_model import LinearRegression\n",
      "import numpy as np\n",
      "import scipy as sp\n",
      "import statsmodels.api as sm\n",
      "from statsmodels.stats.anova import anova_lm\n",
      "%matplotlib inline\n",
      "from statsmodels.formula.api import ols"
     ],
     "language": "python",
     "metadata": {},
     "outputs": [],
     "prompt_number": 28
    },
    {
     "cell_type": "code",
     "collapsed": false,
     "input": [
      "df = pd.read_csv(\"data/week2-HW-data.csv\")"
     ],
     "language": "python",
     "metadata": {},
     "outputs": [],
     "prompt_number": 29
    },
    {
     "cell_type": "code",
     "collapsed": false,
     "input": [
      "df.head(5)"
     ],
     "language": "python",
     "metadata": {},
     "outputs": [
      {
       "html": [
        "<div style=\"max-height:1000px;max-width:1500px;overflow:auto;\">\n",
        "<table border=\"1\" class=\"dataframe\">\n",
        "  <thead>\n",
        "    <tr style=\"text-align: right;\">\n",
        "      <th></th>\n",
        "      <th>Person</th>\n",
        "      <th>SBP</th>\n",
        "      <th>QUET</th>\n",
        "      <th>AGE</th>\n",
        "      <th>SMK</th>\n",
        "    </tr>\n",
        "  </thead>\n",
        "  <tbody>\n",
        "    <tr>\n",
        "      <th>0</th>\n",
        "      <td> 1</td>\n",
        "      <td> 135</td>\n",
        "      <td> 2.876</td>\n",
        "      <td> 45</td>\n",
        "      <td> 0</td>\n",
        "    </tr>\n",
        "    <tr>\n",
        "      <th>1</th>\n",
        "      <td> 2</td>\n",
        "      <td> 122</td>\n",
        "      <td> 3.251</td>\n",
        "      <td> 41</td>\n",
        "      <td> 0</td>\n",
        "    </tr>\n",
        "    <tr>\n",
        "      <th>2</th>\n",
        "      <td> 3</td>\n",
        "      <td> 130</td>\n",
        "      <td> 3.100</td>\n",
        "      <td> 49</td>\n",
        "      <td> 0</td>\n",
        "    </tr>\n",
        "    <tr>\n",
        "      <th>3</th>\n",
        "      <td> 4</td>\n",
        "      <td> 148</td>\n",
        "      <td> 3.768</td>\n",
        "      <td> 52</td>\n",
        "      <td> 0</td>\n",
        "    </tr>\n",
        "    <tr>\n",
        "      <th>4</th>\n",
        "      <td> 5</td>\n",
        "      <td> 146</td>\n",
        "      <td> 2.979</td>\n",
        "      <td> 54</td>\n",
        "      <td> 1</td>\n",
        "    </tr>\n",
        "  </tbody>\n",
        "</table>\n",
        "</div>"
       ],
       "metadata": {},
       "output_type": "pyout",
       "prompt_number": 30,
       "text": [
        "   Person  SBP   QUET  AGE  SMK\n",
        "0       1  135  2.876   45    0\n",
        "1       2  122  3.251   41    0\n",
        "2       3  130  3.100   49    0\n",
        "3       4  148  3.768   52    0\n",
        "4       5  146  2.979   54    1"
       ]
      }
     ],
     "prompt_number": 30
    },
    {
     "cell_type": "code",
     "collapsed": false,
     "input": [
      "def calculate_ANOVA_table(df,X,Y):\n",
      "    \"\"\" calculates the ANOVA table \"\"\"\n",
      "    table = pd.DataFrame({ X : df[X], Y : df[Y]})\n",
      "    table[\"x-x_bar\"] = df[X].apply(lambda x: x-df[X].mean())\n",
      "    table[\"x-x_bar_sqrd\"] = table[\"x-x_bar\"].apply(lambda x: x*x)\n",
      "    table[\"y-y_bar\"] = df[Y].apply(lambda y: y-df[Y].mean())\n",
      "    table[\"y-y_bar_sqrd\"] = table[\"y-y_bar\"].apply(lambda x: x*x)\n",
      "    \n",
      "    reg = LinearRegression()\n",
      "    XX = df[[X]].values\n",
      "    yy = df[Y].values\n",
      "    reg.fit(XX, yy)\n",
      "    regr.predict(diabetes_X_test) \n",
      "    \n",
      "    return table"
     ],
     "language": "python",
     "metadata": {},
     "outputs": [],
     "prompt_number": 31
    },
    {
     "cell_type": "markdown",
     "metadata": {},
     "source": [
      "Determine the ANOVA tables for the following regressions: SBP (Y) on SMK (X)"
     ]
    },
    {
     "cell_type": "code",
     "collapsed": false,
     "input": [
      "formula = 'SBP ~ SMK'\n",
      "lm = ols(formula, df).fit()\n",
      "lm.summary()"
     ],
     "language": "python",
     "metadata": {},
     "outputs": [
      {
       "html": [
        "<table class=\"simpletable\">\n",
        "<caption>OLS Regression Results</caption>\n",
        "<tr>\n",
        "  <th>Dep. Variable:</th>           <td>SBP</td>       <th>  R-squared:         </th> <td>   0.061</td>\n",
        "</tr>\n",
        "<tr>\n",
        "  <th>Model:</th>                   <td>OLS</td>       <th>  Adj. R-squared:    </th> <td>   0.030</td>\n",
        "</tr>\n",
        "<tr>\n",
        "  <th>Method:</th>             <td>Least Squares</td>  <th>  F-statistic:       </th> <td>   1.955</td>\n",
        "</tr>\n",
        "<tr>\n",
        "  <th>Date:</th>             <td>Mon, 04 May 2015</td> <th>  Prob (F-statistic):</th>  <td> 0.172</td> \n",
        "</tr>\n",
        "<tr>\n",
        "  <th>Time:</th>                 <td>16:09:07</td>     <th>  Log-Likelihood:    </th> <td> -129.23</td>\n",
        "</tr>\n",
        "<tr>\n",
        "  <th>No. Observations:</th>      <td>    32</td>      <th>  AIC:               </th> <td>   262.5</td>\n",
        "</tr>\n",
        "<tr>\n",
        "  <th>Df Residuals:</th>          <td>    30</td>      <th>  BIC:               </th> <td>   265.4</td>\n",
        "</tr>\n",
        "<tr>\n",
        "  <th>Df Model:</th>              <td>     1</td>      <th>                     </th>     <td> </td>   \n",
        "</tr>\n",
        "<tr>\n",
        "  <th>Covariance Type:</th>      <td>nonrobust</td>    <th>                     </th>     <td> </td>   \n",
        "</tr>\n",
        "</table>\n",
        "<table class=\"simpletable\">\n",
        "<tr>\n",
        "      <td></td>         <th>coef</th>     <th>std err</th>      <th>t</th>      <th>P>|t|</th> <th>[95.0% Conf. Int.]</th> \n",
        "</tr>\n",
        "<tr>\n",
        "  <th>Intercept</th> <td>  140.8000</td> <td>    3.661</td> <td>   38.454</td> <td> 0.000</td> <td>  133.322   148.278</td>\n",
        "</tr>\n",
        "<tr>\n",
        "  <th>SMK</th>       <td>    7.0235</td> <td>    5.023</td> <td>    1.398</td> <td> 0.172</td> <td>   -3.236    17.283</td>\n",
        "</tr>\n",
        "</table>\n",
        "<table class=\"simpletable\">\n",
        "<tr>\n",
        "  <th>Omnibus:</th>       <td> 1.469</td> <th>  Durbin-Watson:     </th> <td>   1.319</td>\n",
        "</tr>\n",
        "<tr>\n",
        "  <th>Prob(Omnibus):</th> <td> 0.480</td> <th>  Jarque-Bera (JB):  </th> <td>   1.392</td>\n",
        "</tr>\n",
        "<tr>\n",
        "  <th>Skew:</th>          <td> 0.427</td> <th>  Prob(JB):          </th> <td>   0.499</td>\n",
        "</tr>\n",
        "<tr>\n",
        "  <th>Kurtosis:</th>      <td> 2.441</td> <th>  Cond. No.          </th> <td>    2.70</td>\n",
        "</tr>\n",
        "</table>"
       ],
       "metadata": {},
       "output_type": "pyout",
       "prompt_number": 32,
       "text": [
        "<class 'statsmodels.iolib.summary.Summary'>\n",
        "\"\"\"\n",
        "                            OLS Regression Results                            \n",
        "==============================================================================\n",
        "Dep. Variable:                    SBP   R-squared:                       0.061\n",
        "Model:                            OLS   Adj. R-squared:                  0.030\n",
        "Method:                 Least Squares   F-statistic:                     1.955\n",
        "Date:                Mon, 04 May 2015   Prob (F-statistic):              0.172\n",
        "Time:                        16:09:07   Log-Likelihood:                -129.23\n",
        "No. Observations:                  32   AIC:                             262.5\n",
        "Df Residuals:                      30   BIC:                             265.4\n",
        "Df Model:                           1                                         \n",
        "Covariance Type:            nonrobust                                         \n",
        "==============================================================================\n",
        "                 coef    std err          t      P>|t|      [95.0% Conf. Int.]\n",
        "------------------------------------------------------------------------------\n",
        "Intercept    140.8000      3.661     38.454      0.000       133.322   148.278\n",
        "SMK            7.0235      5.023      1.398      0.172        -3.236    17.283\n",
        "==============================================================================\n",
        "Omnibus:                        1.469   Durbin-Watson:                   1.319\n",
        "Prob(Omnibus):                  0.480   Jarque-Bera (JB):                1.392\n",
        "Skew:                           0.427   Prob(JB):                        0.499\n",
        "Kurtosis:                       2.441   Cond. No.                         2.70\n",
        "==============================================================================\n",
        "\n",
        "Warnings:\n",
        "[1] Standard Errors assume that the covariance matrix of the errors is correctly specified.\n",
        "\"\"\""
       ]
      }
     ],
     "prompt_number": 32
    },
    {
     "cell_type": "code",
     "collapsed": false,
     "input": [
      "table1 = anova_lm(lm)\n",
      "table1"
     ],
     "language": "python",
     "metadata": {},
     "outputs": [
      {
       "html": [
        "<div style=\"max-height:1000px;max-width:1500px;overflow:auto;\">\n",
        "<table border=\"1\" class=\"dataframe\">\n",
        "  <thead>\n",
        "    <tr style=\"text-align: right;\">\n",
        "      <th></th>\n",
        "      <th>df</th>\n",
        "      <th>sum_sq</th>\n",
        "      <th>mean_sq</th>\n",
        "      <th>F</th>\n",
        "      <th>PR(&gt;F)</th>\n",
        "    </tr>\n",
        "  </thead>\n",
        "  <tbody>\n",
        "    <tr>\n",
        "      <th>SMK</th>\n",
        "      <td>  1</td>\n",
        "      <td>  393.098162</td>\n",
        "      <td> 393.098162</td>\n",
        "      <td> 1.954782</td>\n",
        "      <td> 0.172325</td>\n",
        "    </tr>\n",
        "    <tr>\n",
        "      <th>Residual</th>\n",
        "      <td> 30</td>\n",
        "      <td> 6032.870588</td>\n",
        "      <td> 201.095686</td>\n",
        "      <td>      NaN</td>\n",
        "      <td>      NaN</td>\n",
        "    </tr>\n",
        "  </tbody>\n",
        "</table>\n",
        "</div>"
       ],
       "metadata": {},
       "output_type": "pyout",
       "prompt_number": 33,
       "text": [
        "          df       sum_sq     mean_sq         F    PR(>F)\n",
        "SMK        1   393.098162  393.098162  1.954782  0.172325\n",
        "Residual  30  6032.870588  201.095686       NaN       NaN"
       ]
      }
     ],
     "prompt_number": 33
    },
    {
     "cell_type": "markdown",
     "metadata": {},
     "source": [
      "Determine the ANOVA tables for the following regressions: SBP (Y) on QUET (X)"
     ]
    },
    {
     "cell_type": "code",
     "collapsed": false,
     "input": [
      "formula = 'SBP ~ QUET'\n",
      "lm = ols(formula, df).fit()\n",
      "lm.summary()"
     ],
     "language": "python",
     "metadata": {},
     "outputs": [
      {
       "html": [
        "<table class=\"simpletable\">\n",
        "<caption>OLS Regression Results</caption>\n",
        "<tr>\n",
        "  <th>Dep. Variable:</th>           <td>SBP</td>       <th>  R-squared:         </th> <td>   0.551</td>\n",
        "</tr>\n",
        "<tr>\n",
        "  <th>Model:</th>                   <td>OLS</td>       <th>  Adj. R-squared:    </th> <td>   0.536</td>\n",
        "</tr>\n",
        "<tr>\n",
        "  <th>Method:</th>             <td>Least Squares</td>  <th>  F-statistic:       </th> <td>   36.75</td>\n",
        "</tr>\n",
        "<tr>\n",
        "  <th>Date:</th>             <td>Mon, 04 May 2015</td> <th>  Prob (F-statistic):</th> <td>1.17e-06</td>\n",
        "</tr>\n",
        "<tr>\n",
        "  <th>Time:</th>                 <td>16:09:07</td>     <th>  Log-Likelihood:    </th> <td> -117.45</td>\n",
        "</tr>\n",
        "<tr>\n",
        "  <th>No. Observations:</th>      <td>    32</td>      <th>  AIC:               </th> <td>   238.9</td>\n",
        "</tr>\n",
        "<tr>\n",
        "  <th>Df Residuals:</th>          <td>    30</td>      <th>  BIC:               </th> <td>   241.8</td>\n",
        "</tr>\n",
        "<tr>\n",
        "  <th>Df Model:</th>              <td>     1</td>      <th>                     </th>     <td> </td>   \n",
        "</tr>\n",
        "<tr>\n",
        "  <th>Covariance Type:</th>      <td>nonrobust</td>    <th>                     </th>     <td> </td>   \n",
        "</tr>\n",
        "</table>\n",
        "<table class=\"simpletable\">\n",
        "<tr>\n",
        "      <td></td>         <th>coef</th>     <th>std err</th>      <th>t</th>      <th>P>|t|</th> <th>[95.0% Conf. Int.]</th> \n",
        "</tr>\n",
        "<tr>\n",
        "  <th>Intercept</th> <td>   70.5764</td> <td>   12.322</td> <td>    5.728</td> <td> 0.000</td> <td>   45.412    95.741</td>\n",
        "</tr>\n",
        "<tr>\n",
        "  <th>QUET</th>      <td>   21.4917</td> <td>    3.545</td> <td>    6.062</td> <td> 0.000</td> <td>   14.252    28.732</td>\n",
        "</tr>\n",
        "</table>\n",
        "<table class=\"simpletable\">\n",
        "<tr>\n",
        "  <th>Omnibus:</th>       <td> 0.134</td> <th>  Durbin-Watson:     </th> <td>   1.357</td>\n",
        "</tr>\n",
        "<tr>\n",
        "  <th>Prob(Omnibus):</th> <td> 0.935</td> <th>  Jarque-Bera (JB):  </th> <td>   0.299</td>\n",
        "</tr>\n",
        "<tr>\n",
        "  <th>Skew:</th>          <td> 0.125</td> <th>  Prob(JB):          </th> <td>   0.861</td>\n",
        "</tr>\n",
        "<tr>\n",
        "  <th>Kurtosis:</th>      <td> 2.599</td> <th>  Cond. No.          </th> <td>    26.7</td>\n",
        "</tr>\n",
        "</table>"
       ],
       "metadata": {},
       "output_type": "pyout",
       "prompt_number": 34,
       "text": [
        "<class 'statsmodels.iolib.summary.Summary'>\n",
        "\"\"\"\n",
        "                            OLS Regression Results                            \n",
        "==============================================================================\n",
        "Dep. Variable:                    SBP   R-squared:                       0.551\n",
        "Model:                            OLS   Adj. R-squared:                  0.536\n",
        "Method:                 Least Squares   F-statistic:                     36.75\n",
        "Date:                Mon, 04 May 2015   Prob (F-statistic):           1.17e-06\n",
        "Time:                        16:09:07   Log-Likelihood:                -117.45\n",
        "No. Observations:                  32   AIC:                             238.9\n",
        "Df Residuals:                      30   BIC:                             241.8\n",
        "Df Model:                           1                                         \n",
        "Covariance Type:            nonrobust                                         \n",
        "==============================================================================\n",
        "                 coef    std err          t      P>|t|      [95.0% Conf. Int.]\n",
        "------------------------------------------------------------------------------\n",
        "Intercept     70.5764     12.322      5.728      0.000        45.412    95.741\n",
        "QUET          21.4917      3.545      6.062      0.000        14.252    28.732\n",
        "==============================================================================\n",
        "Omnibus:                        0.134   Durbin-Watson:                   1.357\n",
        "Prob(Omnibus):                  0.935   Jarque-Bera (JB):                0.299\n",
        "Skew:                           0.125   Prob(JB):                        0.861\n",
        "Kurtosis:                       2.599   Cond. No.                         26.7\n",
        "==============================================================================\n",
        "\n",
        "Warnings:\n",
        "[1] Standard Errors assume that the covariance matrix of the errors is correctly specified.\n",
        "\"\"\""
       ]
      }
     ],
     "prompt_number": 34
    },
    {
     "cell_type": "code",
     "collapsed": false,
     "input": [
      "table2 = anova_lm(lm)\n",
      "table2"
     ],
     "language": "python",
     "metadata": {},
     "outputs": [
      {
       "html": [
        "<div style=\"max-height:1000px;max-width:1500px;overflow:auto;\">\n",
        "<table border=\"1\" class=\"dataframe\">\n",
        "  <thead>\n",
        "    <tr style=\"text-align: right;\">\n",
        "      <th></th>\n",
        "      <th>df</th>\n",
        "      <th>sum_sq</th>\n",
        "      <th>mean_sq</th>\n",
        "      <th>F</th>\n",
        "      <th>PR(&gt;F)</th>\n",
        "    </tr>\n",
        "  </thead>\n",
        "  <tbody>\n",
        "    <tr>\n",
        "      <th>QUET</th>\n",
        "      <td>  1</td>\n",
        "      <td> 3537.945739</td>\n",
        "      <td> 3537.945739</td>\n",
        "      <td> 36.751221</td>\n",
        "      <td> 0.000001</td>\n",
        "    </tr>\n",
        "    <tr>\n",
        "      <th>Residual</th>\n",
        "      <td> 30</td>\n",
        "      <td> 2888.023011</td>\n",
        "      <td>   96.267434</td>\n",
        "      <td>       NaN</td>\n",
        "      <td>      NaN</td>\n",
        "    </tr>\n",
        "  </tbody>\n",
        "</table>\n",
        "</div>"
       ],
       "metadata": {},
       "output_type": "pyout",
       "prompt_number": 35,
       "text": [
        "          df       sum_sq      mean_sq          F    PR(>F)\n",
        "QUET       1  3537.945739  3537.945739  36.751221  0.000001\n",
        "Residual  30  2888.023011    96.267434        NaN       NaN"
       ]
      }
     ],
     "prompt_number": 35
    },
    {
     "cell_type": "markdown",
     "metadata": {},
     "source": [
      "Determine the ANOVA tables for the following regressions: QUET (Y) on AGE (X)"
     ]
    },
    {
     "cell_type": "code",
     "collapsed": false,
     "input": [
      "formula = 'QUET ~ AGE'\n",
      "lm = ols(formula, df).fit()\n",
      "lm.summary()"
     ],
     "language": "python",
     "metadata": {},
     "outputs": [
      {
       "html": [
        "<table class=\"simpletable\">\n",
        "<caption>OLS Regression Results</caption>\n",
        "<tr>\n",
        "  <th>Dep. Variable:</th>          <td>QUET</td>       <th>  R-squared:         </th> <td>   0.644</td>\n",
        "</tr>\n",
        "<tr>\n",
        "  <th>Model:</th>                   <td>OLS</td>       <th>  Adj. R-squared:    </th> <td>   0.633</td>\n",
        "</tr>\n",
        "<tr>\n",
        "  <th>Method:</th>             <td>Least Squares</td>  <th>  F-statistic:       </th> <td>   54.37</td>\n",
        "</tr>\n",
        "<tr>\n",
        "  <th>Date:</th>             <td>Mon, 04 May 2015</td> <th>  Prob (F-statistic):</th> <td>3.25e-08</td>\n",
        "</tr>\n",
        "<tr>\n",
        "  <th>Time:</th>                 <td>16:09:07</td>     <th>  Log-Likelihood:    </th> <td> -5.9862</td>\n",
        "</tr>\n",
        "<tr>\n",
        "  <th>No. Observations:</th>      <td>    32</td>      <th>  AIC:               </th> <td>   15.97</td>\n",
        "</tr>\n",
        "<tr>\n",
        "  <th>Df Residuals:</th>          <td>    30</td>      <th>  BIC:               </th> <td>   18.90</td>\n",
        "</tr>\n",
        "<tr>\n",
        "  <th>Df Model:</th>              <td>     1</td>      <th>                     </th>     <td> </td>   \n",
        "</tr>\n",
        "<tr>\n",
        "  <th>Covariance Type:</th>      <td>nonrobust</td>    <th>                     </th>     <td> </td>   \n",
        "</tr>\n",
        "</table>\n",
        "<table class=\"simpletable\">\n",
        "<tr>\n",
        "      <td></td>         <th>coef</th>     <th>std err</th>      <th>t</th>      <th>P>|t|</th> <th>[95.0% Conf. Int.]</th> \n",
        "</tr>\n",
        "<tr>\n",
        "  <th>Intercept</th> <td>    0.3865</td> <td>    0.418</td> <td>    0.925</td> <td> 0.362</td> <td>   -0.467     1.239</td>\n",
        "</tr>\n",
        "<tr>\n",
        "  <th>AGE</th>       <td>    0.0574</td> <td>    0.008</td> <td>    7.373</td> <td> 0.000</td> <td>    0.041     0.073</td>\n",
        "</tr>\n",
        "</table>\n",
        "<table class=\"simpletable\">\n",
        "<tr>\n",
        "  <th>Omnibus:</th>       <td> 2.393</td> <th>  Durbin-Watson:     </th> <td>   2.420</td>\n",
        "</tr>\n",
        "<tr>\n",
        "  <th>Prob(Omnibus):</th> <td> 0.302</td> <th>  Jarque-Bera (JB):  </th> <td>   1.447</td>\n",
        "</tr>\n",
        "<tr>\n",
        "  <th>Skew:</th>          <td> 0.507</td> <th>  Prob(JB):          </th> <td>   0.485</td>\n",
        "</tr>\n",
        "<tr>\n",
        "  <th>Kurtosis:</th>      <td> 3.240</td> <th>  Cond. No.          </th> <td>    421.</td>\n",
        "</tr>\n",
        "</table>"
       ],
       "metadata": {},
       "output_type": "pyout",
       "prompt_number": 36,
       "text": [
        "<class 'statsmodels.iolib.summary.Summary'>\n",
        "\"\"\"\n",
        "                            OLS Regression Results                            \n",
        "==============================================================================\n",
        "Dep. Variable:                   QUET   R-squared:                       0.644\n",
        "Model:                            OLS   Adj. R-squared:                  0.633\n",
        "Method:                 Least Squares   F-statistic:                     54.37\n",
        "Date:                Mon, 04 May 2015   Prob (F-statistic):           3.25e-08\n",
        "Time:                        16:09:07   Log-Likelihood:                -5.9862\n",
        "No. Observations:                  32   AIC:                             15.97\n",
        "Df Residuals:                      30   BIC:                             18.90\n",
        "Df Model:                           1                                         \n",
        "Covariance Type:            nonrobust                                         \n",
        "==============================================================================\n",
        "                 coef    std err          t      P>|t|      [95.0% Conf. Int.]\n",
        "------------------------------------------------------------------------------\n",
        "Intercept      0.3865      0.418      0.925      0.362        -0.467     1.239\n",
        "AGE            0.0574      0.008      7.373      0.000         0.041     0.073\n",
        "==============================================================================\n",
        "Omnibus:                        2.393   Durbin-Watson:                   2.420\n",
        "Prob(Omnibus):                  0.302   Jarque-Bera (JB):                1.447\n",
        "Skew:                           0.507   Prob(JB):                        0.485\n",
        "Kurtosis:                       3.240   Cond. No.                         421.\n",
        "==============================================================================\n",
        "\n",
        "Warnings:\n",
        "[1] Standard Errors assume that the covariance matrix of the errors is correctly specified.\n",
        "\"\"\""
       ]
      }
     ],
     "prompt_number": 36
    },
    {
     "cell_type": "code",
     "collapsed": false,
     "input": [
      "table3 = anova_lm(lm)\n",
      "table3"
     ],
     "language": "python",
     "metadata": {},
     "outputs": [
      {
       "html": [
        "<div style=\"max-height:1000px;max-width:1500px;overflow:auto;\">\n",
        "<table border=\"1\" class=\"dataframe\">\n",
        "  <thead>\n",
        "    <tr style=\"text-align: right;\">\n",
        "      <th></th>\n",
        "      <th>df</th>\n",
        "      <th>sum_sq</th>\n",
        "      <th>mean_sq</th>\n",
        "      <th>F</th>\n",
        "      <th>PR(&gt;F)</th>\n",
        "    </tr>\n",
        "  </thead>\n",
        "  <tbody>\n",
        "    <tr>\n",
        "      <th>AGE</th>\n",
        "      <td>  1</td>\n",
        "      <td> 4.935971</td>\n",
        "      <td> 4.935971</td>\n",
        "      <td> 54.366641</td>\n",
        "      <td> 3.252582e-08</td>\n",
        "    </tr>\n",
        "    <tr>\n",
        "      <th>Residual</th>\n",
        "      <td> 30</td>\n",
        "      <td> 2.723713</td>\n",
        "      <td> 0.090790</td>\n",
        "      <td>       NaN</td>\n",
        "      <td>          NaN</td>\n",
        "    </tr>\n",
        "  </tbody>\n",
        "</table>\n",
        "</div>"
       ],
       "metadata": {},
       "output_type": "pyout",
       "prompt_number": 37,
       "text": [
        "          df    sum_sq   mean_sq          F        PR(>F)\n",
        "AGE        1  4.935971  4.935971  54.366641  3.252582e-08\n",
        "Residual  30  2.723713  0.090790        NaN           NaN"
       ]
      }
     ],
     "prompt_number": 37
    },
    {
     "cell_type": "markdown",
     "metadata": {},
     "source": [
      "Determine the ANOVA tables for the following regressions: SBP (Y) on AGE (X)"
     ]
    },
    {
     "cell_type": "code",
     "collapsed": false,
     "input": [
      "formula = 'SBP ~ AGE'\n",
      "lm = ols(formula, df).fit()\n",
      "lm.summary()"
     ],
     "language": "python",
     "metadata": {},
     "outputs": [
      {
       "html": [
        "<table class=\"simpletable\">\n",
        "<caption>OLS Regression Results</caption>\n",
        "<tr>\n",
        "  <th>Dep. Variable:</th>           <td>SBP</td>       <th>  R-squared:         </th> <td>   0.601</td>\n",
        "</tr>\n",
        "<tr>\n",
        "  <th>Model:</th>                   <td>OLS</td>       <th>  Adj. R-squared:    </th> <td>   0.588</td>\n",
        "</tr>\n",
        "<tr>\n",
        "  <th>Method:</th>             <td>Least Squares</td>  <th>  F-statistic:       </th> <td>   45.18</td>\n",
        "</tr>\n",
        "<tr>\n",
        "  <th>Date:</th>             <td>Mon, 04 May 2015</td> <th>  Prob (F-statistic):</th> <td>1.89e-07</td>\n",
        "</tr>\n",
        "<tr>\n",
        "  <th>Time:</th>                 <td>16:09:08</td>     <th>  Log-Likelihood:    </th> <td> -115.55</td>\n",
        "</tr>\n",
        "<tr>\n",
        "  <th>No. Observations:</th>      <td>    32</td>      <th>  AIC:               </th> <td>   235.1</td>\n",
        "</tr>\n",
        "<tr>\n",
        "  <th>Df Residuals:</th>          <td>    30</td>      <th>  BIC:               </th> <td>   238.0</td>\n",
        "</tr>\n",
        "<tr>\n",
        "  <th>Df Model:</th>              <td>     1</td>      <th>                     </th>     <td> </td>   \n",
        "</tr>\n",
        "<tr>\n",
        "  <th>Covariance Type:</th>      <td>nonrobust</td>    <th>                     </th>     <td> </td>   \n",
        "</tr>\n",
        "</table>\n",
        "<table class=\"simpletable\">\n",
        "<tr>\n",
        "      <td></td>         <th>coef</th>     <th>std err</th>      <th>t</th>      <th>P>|t|</th> <th>[95.0% Conf. Int.]</th> \n",
        "</tr>\n",
        "<tr>\n",
        "  <th>Intercept</th> <td>   59.0916</td> <td>   12.816</td> <td>    4.611</td> <td> 0.000</td> <td>   32.917    85.266</td>\n",
        "</tr>\n",
        "<tr>\n",
        "  <th>AGE</th>       <td>    1.6045</td> <td>    0.239</td> <td>    6.721</td> <td> 0.000</td> <td>    1.117     2.092</td>\n",
        "</tr>\n",
        "</table>\n",
        "<table class=\"simpletable\">\n",
        "<tr>\n",
        "  <th>Omnibus:</th>       <td> 4.016</td> <th>  Durbin-Watson:     </th> <td>   1.098</td>\n",
        "</tr>\n",
        "<tr>\n",
        "  <th>Prob(Omnibus):</th> <td> 0.134</td> <th>  Jarque-Bera (JB):  </th> <td>   3.122</td>\n",
        "</tr>\n",
        "<tr>\n",
        "  <th>Skew:</th>          <td> 0.764</td> <th>  Prob(JB):          </th> <td>   0.210</td>\n",
        "</tr>\n",
        "<tr>\n",
        "  <th>Kurtosis:</th>      <td> 3.064</td> <th>  Cond. No.          </th> <td>    421.</td>\n",
        "</tr>\n",
        "</table>"
       ],
       "metadata": {},
       "output_type": "pyout",
       "prompt_number": 38,
       "text": [
        "<class 'statsmodels.iolib.summary.Summary'>\n",
        "\"\"\"\n",
        "                            OLS Regression Results                            \n",
        "==============================================================================\n",
        "Dep. Variable:                    SBP   R-squared:                       0.601\n",
        "Model:                            OLS   Adj. R-squared:                  0.588\n",
        "Method:                 Least Squares   F-statistic:                     45.18\n",
        "Date:                Mon, 04 May 2015   Prob (F-statistic):           1.89e-07\n",
        "Time:                        16:09:08   Log-Likelihood:                -115.55\n",
        "No. Observations:                  32   AIC:                             235.1\n",
        "Df Residuals:                      30   BIC:                             238.0\n",
        "Df Model:                           1                                         \n",
        "Covariance Type:            nonrobust                                         \n",
        "==============================================================================\n",
        "                 coef    std err          t      P>|t|      [95.0% Conf. Int.]\n",
        "------------------------------------------------------------------------------\n",
        "Intercept     59.0916     12.816      4.611      0.000        32.917    85.266\n",
        "AGE            1.6045      0.239      6.721      0.000         1.117     2.092\n",
        "==============================================================================\n",
        "Omnibus:                        4.016   Durbin-Watson:                   1.098\n",
        "Prob(Omnibus):                  0.134   Jarque-Bera (JB):                3.122\n",
        "Skew:                           0.764   Prob(JB):                        0.210\n",
        "Kurtosis:                       3.064   Cond. No.                         421.\n",
        "==============================================================================\n",
        "\n",
        "Warnings:\n",
        "[1] Standard Errors assume that the covariance matrix of the errors is correctly specified.\n",
        "\"\"\""
       ]
      }
     ],
     "prompt_number": 38
    },
    {
     "cell_type": "code",
     "collapsed": false,
     "input": [
      "table4 = anova_lm(lm)\n",
      "table4"
     ],
     "language": "python",
     "metadata": {},
     "outputs": [
      {
       "html": [
        "<div style=\"max-height:1000px;max-width:1500px;overflow:auto;\">\n",
        "<table border=\"1\" class=\"dataframe\">\n",
        "  <thead>\n",
        "    <tr style=\"text-align: right;\">\n",
        "      <th></th>\n",
        "      <th>df</th>\n",
        "      <th>sum_sq</th>\n",
        "      <th>mean_sq</th>\n",
        "      <th>F</th>\n",
        "      <th>PR(&gt;F)</th>\n",
        "    </tr>\n",
        "  </thead>\n",
        "  <tbody>\n",
        "    <tr>\n",
        "      <th>AGE</th>\n",
        "      <td>  1</td>\n",
        "      <td> 3861.630375</td>\n",
        "      <td> 3861.630375</td>\n",
        "      <td> 45.176921</td>\n",
        "      <td>  0</td>\n",
        "    </tr>\n",
        "    <tr>\n",
        "      <th>Residual</th>\n",
        "      <td> 30</td>\n",
        "      <td> 2564.338375</td>\n",
        "      <td>   85.477946</td>\n",
        "      <td>       NaN</td>\n",
        "      <td>NaN</td>\n",
        "    </tr>\n",
        "  </tbody>\n",
        "</table>\n",
        "</div>"
       ],
       "metadata": {},
       "output_type": "pyout",
       "prompt_number": 39,
       "text": [
        "          df       sum_sq      mean_sq          F  PR(>F)\n",
        "AGE        1  3861.630375  3861.630375  45.176921       0\n",
        "Residual  30  2564.338375    85.477946        NaN     NaN"
       ]
      }
     ],
     "prompt_number": 39
    },
    {
     "cell_type": "markdown",
     "metadata": {},
     "source": [
      "For problem 1, we see the following ANOVA table:"
     ]
    },
    {
     "cell_type": "code",
     "collapsed": false,
     "input": [
      "table1"
     ],
     "language": "python",
     "metadata": {},
     "outputs": [
      {
       "html": [
        "<div style=\"max-height:1000px;max-width:1500px;overflow:auto;\">\n",
        "<table border=\"1\" class=\"dataframe\">\n",
        "  <thead>\n",
        "    <tr style=\"text-align: right;\">\n",
        "      <th></th>\n",
        "      <th>df</th>\n",
        "      <th>sum_sq</th>\n",
        "      <th>mean_sq</th>\n",
        "      <th>F</th>\n",
        "      <th>PR(&gt;F)</th>\n",
        "    </tr>\n",
        "  </thead>\n",
        "  <tbody>\n",
        "    <tr>\n",
        "      <th>SMK</th>\n",
        "      <td>  1</td>\n",
        "      <td>  393.098162</td>\n",
        "      <td> 393.098162</td>\n",
        "      <td> 1.954782</td>\n",
        "      <td> 0.172325</td>\n",
        "    </tr>\n",
        "    <tr>\n",
        "      <th>Residual</th>\n",
        "      <td> 30</td>\n",
        "      <td> 6032.870588</td>\n",
        "      <td> 201.095686</td>\n",
        "      <td>      NaN</td>\n",
        "      <td>      NaN</td>\n",
        "    </tr>\n",
        "  </tbody>\n",
        "</table>\n",
        "</div>"
       ],
       "metadata": {},
       "output_type": "pyout",
       "prompt_number": 40,
       "text": [
        "          df       sum_sq     mean_sq         F    PR(>F)\n",
        "SMK        1   393.098162  393.098162  1.954782  0.172325\n",
        "Residual  30  6032.870588  201.095686       NaN       NaN"
       ]
      }
     ],
     "prompt_number": 40
    },
    {
     "cell_type": "markdown",
     "metadata": {},
     "source": [
      "As you can see, F of 1.95 is large, but the p value associated with this is > .05 therefore we cannot reject the null hypothesis and say the sope is non-zero."
     ]
    },
    {
     "cell_type": "markdown",
     "metadata": {},
     "source": [
      "For example two, we saw the following ANOVA table"
     ]
    },
    {
     "cell_type": "code",
     "collapsed": false,
     "input": [
      "table2"
     ],
     "language": "python",
     "metadata": {},
     "outputs": [
      {
       "html": [
        "<div style=\"max-height:1000px;max-width:1500px;overflow:auto;\">\n",
        "<table border=\"1\" class=\"dataframe\">\n",
        "  <thead>\n",
        "    <tr style=\"text-align: right;\">\n",
        "      <th></th>\n",
        "      <th>df</th>\n",
        "      <th>sum_sq</th>\n",
        "      <th>mean_sq</th>\n",
        "      <th>F</th>\n",
        "      <th>PR(&gt;F)</th>\n",
        "    </tr>\n",
        "  </thead>\n",
        "  <tbody>\n",
        "    <tr>\n",
        "      <th>QUET</th>\n",
        "      <td>  1</td>\n",
        "      <td> 3537.945739</td>\n",
        "      <td> 3537.945739</td>\n",
        "      <td> 36.751221</td>\n",
        "      <td> 0.000001</td>\n",
        "    </tr>\n",
        "    <tr>\n",
        "      <th>Residual</th>\n",
        "      <td> 30</td>\n",
        "      <td> 2888.023011</td>\n",
        "      <td>   96.267434</td>\n",
        "      <td>       NaN</td>\n",
        "      <td>      NaN</td>\n",
        "    </tr>\n",
        "  </tbody>\n",
        "</table>\n",
        "</div>"
       ],
       "metadata": {},
       "output_type": "pyout",
       "prompt_number": 41,
       "text": [
        "          df       sum_sq      mean_sq          F    PR(>F)\n",
        "QUET       1  3537.945739  3537.945739  36.751221  0.000001\n",
        "Residual  30  2888.023011    96.267434        NaN       NaN"
       ]
      }
     ],
     "prompt_number": 41
    },
    {
     "cell_type": "markdown",
     "metadata": {},
     "source": [
      "So here we see a large F-value, and small p-value and can reject the null hypothesis."
     ]
    },
    {
     "cell_type": "code",
     "collapsed": false,
     "input": [
      "For example three, we saw the following ANOVA table"
     ],
     "language": "python",
     "metadata": {},
     "outputs": [
      {
       "ename": "SyntaxError",
       "evalue": "invalid syntax (<ipython-input-42-6e0351bfff0a>, line 1)",
       "output_type": "pyerr",
       "traceback": [
        "\u001b[0;36m  File \u001b[0;32m\"<ipython-input-42-6e0351bfff0a>\"\u001b[0;36m, line \u001b[0;32m1\u001b[0m\n\u001b[0;31m    For example three, we saw the following ANOVA table\u001b[0m\n\u001b[0m              ^\u001b[0m\n\u001b[0;31mSyntaxError\u001b[0m\u001b[0;31m:\u001b[0m invalid syntax\n"
       ]
      }
     ],
     "prompt_number": 42
    },
    {
     "cell_type": "code",
     "collapsed": false,
     "input": [],
     "language": "python",
     "metadata": {},
     "outputs": []
    },
    {
     "cell_type": "markdown",
     "metadata": {},
     "source": []
    }
   ],
   "metadata": {}
  }
 ]
}